{
 "cells": [
  {
   "cell_type": "markdown",
   "metadata": {},
   "source": [
    "# **Tarea Nº 3**\n",
    "Scope: If, Loops, Functions"
   ]
  },
  {
   "cell_type": "markdown",
   "metadata": {},
   "source": [
    "Curso:          Fundamentos de Programación en Python para Macroeconomía y Finanzas     \n",
    "Profesor:       Victor Fuentes Campos     "
   ]
  },
  {
   "cell_type": "markdown",
   "metadata": {},
   "source": [
    "- Fecha y hora de entrega: Miércoles 10 de enero, 11:59am\n",
    "- Agregue los nombres de las personas con las que discutió esta tarea: ____ Jacqueline Mendoza Arce-Jakelin Remon______\n",
    "- Envíe su tarea haciendo el `push` de su código a su repo en GitHub Classroom: "
   ]
  },
  {
   "cell_type": "markdown",
   "metadata": {},
   "source": [
    "As of 2022 Q2, there are almost 3.5 million Andriod apps on Google Play and 1.6 million iOS apps on the App Store, and counting. Giving the digital revolution, there is an increase interest in investment opportunities in this sector\n",
    "\n",
    "<img src=\"popular_app_stores.png\" max-width=\"300\">\n",
    "\n",
    "Under this context, you will assess a financial committee interested in investing in software development. The goal is to determine the kinds of apps that are likely to attract more users because the number of people using our apps affect our revenue. For this purpose, you will access to data from Google Play and App Store.\n",
    "\n",
    "- Google Play: you can dowload the dataset containing approximately 11k Android apps from [this link](https://dq-content.s3.amazonaws.com/350/googleplaystore.csv). It was collected in August 2018\n",
    "- App Store: you can dowload the dataset containing roughly 7k iOS apps from [this link](https://dq-content.s3.amazonaws.com/350/AppleStore.csv). It was collected in July 2017"
   ]
  },
  {
   "cell_type": "markdown",
   "metadata": {},
   "source": [
    "## Exploring data"
   ]
  },
  {
   "cell_type": "markdown",
   "metadata": {},
   "source": [
    "1. Open the two datasets we mentioned above, and save both as lists of lists"
   ]
  },
  {
   "cell_type": "code",
   "execution_count": 128,
   "metadata": {},
   "outputs": [],
   "source": [
    "# Solution\n",
    "import numpy as np\n",
    "import pandas as pd\n"
   ]
  },
  {
   "cell_type": "code",
   "execution_count": 129,
   "metadata": {},
   "outputs": [
    {
     "data": {
      "text/plain": [
       "'/Users/patriciajacquelinemendozaarce/Downloads/tarea-3-jacqueline-jakelin'"
      ]
     },
     "execution_count": 129,
     "metadata": {},
     "output_type": "execute_result"
    }
   ],
   "source": [
    "pwd"
   ]
  },
  {
   "cell_type": "code",
   "execution_count": 151,
   "metadata": {},
   "outputs": [],
   "source": [
    "import csv\n",
    "apple = pd.read_csv(\"AppleStore.csv\")\n",
    "google = pd.read_csv(\"googleplaystore.csv\")\n",
    "apple_c = apple.values.tolist()\n",
    "google_c = google.values.tolist()\n"
   ]
  },
  {
   "cell_type": "markdown",
   "metadata": {},
   "source": [
    "2. Print the first few rows of each dataset and find the number of rows and columns of each dataset"
   ]
  },
  {
   "cell_type": "code",
   "execution_count": 131,
   "metadata": {},
   "outputs": [
    {
     "name": "stdout",
     "output_type": "stream",
     "text": [
      "          id               track_name  size_bytes currency  price  \\\n",
      "0  284882215                 Facebook   389879808      USD    0.0   \n",
      "1  389801252                Instagram   113954816      USD    0.0   \n",
      "2  529479190           Clash of Clans   116476928      USD    0.0   \n",
      "3  420009108               Temple Run    65921024      USD    0.0   \n",
      "4  284035177  Pandora - Music & Radio   130242560      USD    0.0   \n",
      "\n",
      "   rating_count_tot  rating_count_ver  user_rating  user_rating_ver      ver  \\\n",
      "0           2974676               212          3.5              3.5     95.0   \n",
      "1           2161558              1289          4.5              4.0    10.23   \n",
      "2           2130805               579          4.5              4.5  9.24.12   \n",
      "3           1724546              3842          4.5              4.0    1.6.2   \n",
      "4           1126879              3594          4.0              4.5    8.4.1   \n",
      "\n",
      "  cont_rating        prime_genre  sup_devices.num  ipadSc_urls.num  lang.num  \\\n",
      "0          4+  Social Networking               37                1        29   \n",
      "1         12+      Photo & Video               37                0        29   \n",
      "2          9+              Games               38                5        18   \n",
      "3          9+              Games               40                5         1   \n",
      "4         12+              Music               37                4         1   \n",
      "\n",
      "   vpp_lic  \n",
      "0        1  \n",
      "1        1  \n",
      "2        1  \n",
      "3        1  \n",
      "4        1  \n",
      "\n",
      "\n",
      "(7197, 16)\n"
     ]
    }
   ],
   "source": [
    "# Solution\n",
    "# Apple\n",
    "print(apple.head())\n",
    "print(\"\\n\")\n",
    "print(apple.shape)"
   ]
  },
  {
   "cell_type": "code",
   "execution_count": 132,
   "metadata": {},
   "outputs": [
    {
     "name": "stdout",
     "output_type": "stream",
     "text": [
      "                                                 App        Category  Rating  \\\n",
      "0     Photo Editor & Candy Camera & Grid & ScrapBook  ART_AND_DESIGN     4.1   \n",
      "1                                Coloring book moana  ART_AND_DESIGN     3.9   \n",
      "2  U Launcher Lite – FREE Live Cool Themes, Hide ...  ART_AND_DESIGN     4.7   \n",
      "3                              Sketch - Draw & Paint  ART_AND_DESIGN     4.5   \n",
      "4              Pixel Draw - Number Art Coloring Book  ART_AND_DESIGN     4.3   \n",
      "\n",
      "  Reviews  Size     Installs  Type Price Content Rating  \\\n",
      "0     159   19M      10,000+  Free     0       Everyone   \n",
      "1     967   14M     500,000+  Free     0       Everyone   \n",
      "2   87510  8.7M   5,000,000+  Free     0       Everyone   \n",
      "3  215644   25M  50,000,000+  Free     0           Teen   \n",
      "4     967  2.8M     100,000+  Free     0       Everyone   \n",
      "\n",
      "                      Genres      Last Updated         Current Ver  \\\n",
      "0               Art & Design   January 7, 2018               1.0.0   \n",
      "1  Art & Design;Pretend Play  January 15, 2018               2.0.0   \n",
      "2               Art & Design    August 1, 2018               1.2.4   \n",
      "3               Art & Design      June 8, 2018  Varies with device   \n",
      "4    Art & Design;Creativity     June 20, 2018                 1.1   \n",
      "\n",
      "    Android Ver  \n",
      "0  4.0.3 and up  \n",
      "1  4.0.3 and up  \n",
      "2  4.0.3 and up  \n",
      "3    4.2 and up  \n",
      "4    4.4 and up  \n",
      "\n",
      "\n",
      "(10841, 13)\n"
     ]
    }
   ],
   "source": [
    "# Google\n",
    "print(google.head())\n",
    "print(\"\\n\")\n",
    "print(google.shape)"
   ]
  },
  {
   "cell_type": "markdown",
   "metadata": {},
   "source": [
    "For more info about the columns in the App Store dataset, visit [this link](https://www.kaggle.com/datasets/ramamet4/app-store-apple-data-set-10k-apps?select=AppleStore.csv)"
   ]
  },
  {
   "cell_type": "markdown",
   "metadata": {},
   "source": [
    "## Preparing data"
   ]
  },
  {
   "cell_type": "markdown",
   "metadata": {},
   "source": [
    "3. As noted before in the [discussion forum](https://www.kaggle.com/datasets/lava18/google-play-store-apps/discussion/66015), there is an error in the Google Play dataset. Please, remove the entry 10472 and explain shortly why"
   ]
  },
  {
   "cell_type": "code",
   "execution_count": 133,
   "metadata": {},
   "outputs": [
    {
     "name": "stdout",
     "output_type": "stream",
     "text": [
      "Information about entry 10472 before removal:\n",
      "App               Life Made WI-Fi Touchscreen Photo Frame\n",
      "Category                                              1.9\n",
      "Rating                                               19.0\n",
      "Reviews                                              3.0M\n",
      "Size                                               1,000+\n",
      "Installs                                             Free\n",
      "Type                                                    0\n",
      "Price                                            Everyone\n",
      "Content Rating                                        NaN\n",
      "Genres                                  February 11, 2018\n",
      "Last Updated                                       1.0.19\n",
      "Current Ver                                    4.0 and up\n",
      "Android Ver                                           NaN\n",
      "Name: 10472, dtype: object\n"
     ]
    }
   ],
   "source": [
    "# Solution\n",
    "print(\"Information about entry 10472 before removal:\")\n",
    "print(google.iloc[10472])\n",
    "# Explication \n",
    "# Let's remove the entry 10472 since there are data with Nan(Not a number), missing or undefined values which could cause problems with operations, numerical analysis, conversions, etc."
   ]
  },
  {
   "cell_type": "code",
   "execution_count": 134,
   "metadata": {},
   "outputs": [],
   "source": [
    "# Remove the entry by its index\n",
    "google = google.drop(10472, inplace=True)\n",
    "\n",
    "# Display information about the entry after removal\n",
    "#print(\"\\nInformation about entry 10472 after removal:\")\n",
    "#print(google.iloc[10472])"
   ]
  },
  {
   "cell_type": "markdown",
   "metadata": {},
   "source": [
    "4. Count the number of duplicates in the Google Play dataset. You must build a function to loop through the Google Play dataset"
   ]
  },
  {
   "cell_type": "code",
   "execution_count": 158,
   "metadata": {},
   "outputs": [
    {
     "name": "stdout",
     "output_type": "stream",
     "text": [
      "Total number of duplicates in the Google DataFrame: 120243\n"
     ]
    }
   ],
   "source": [
    "\n",
    "def count_total_duplicates(df):\n",
    "    # Inicializa una variable para almacenar el total de duplicados\n",
    "    total_duplicates = 0\n",
    "\n",
    "    # Itera sobre cada columna del DataFrame\n",
    "    for column in df.columns:\n",
    "        # Calcula el número de duplicados en la columna actual\n",
    "        num_duplicates = df[column].duplicated().sum()\n",
    "\n",
    "        # Suma el número de duplicados al total\n",
    "        total_duplicates += num_duplicates\n",
    "\n",
    "    return total_duplicates\n",
    "\n",
    "# Llamada a la función\n",
    "total_duplicates = count_total_duplicates(google)\n",
    "\n",
    "# Muestra el resultado total de duplicados\n",
    "print(\"Total number of duplicates in the Google DataFrame:\", total_duplicates)\n",
    "\n"
   ]
  },
  {
   "cell_type": "code",
   "execution_count": 153,
   "metadata": {},
   "outputs": [
    {
     "name": "stdout",
     "output_type": "stream",
     "text": [
      "(10841, 13)\n"
     ]
    }
   ],
   "source": [
    "print(google.shape)"
   ]
  },
  {
   "cell_type": "markdown",
   "metadata": {},
   "source": [
    "5. Remove duplicates ..."
   ]
  },
  {
   "cell_type": "markdown",
   "metadata": {},
   "source": [
    "5. a. Create a dictionary, where each dictionary key is a unique app name and the corresponding dictionary value is the highest number of reviews of that app\n"
   ]
  },
  {
   "cell_type": "code",
   "execution_count": 169,
   "metadata": {},
   "outputs": [
    {
     "name": "stdout",
     "output_type": "stream",
     "text": [
      "[('\"i DT\" Fútbol. Todos Somos Técnicos.', 27), ('+Download 4 Instagram Twitter', 40467), ('- Free Comics - Comic Apps', 115), ('.R', 259), ('/u/app', 573)]\n"
     ]
    }
   ],
   "source": [
    "# Solution\n",
    "def max_reviews_by_app(dataset_path):\n",
    "    # Load the dataset\n",
    "    df = pd.read_csv(dataset_path)\n",
    "    df.drop(10472, inplace=True)\n",
    "\n",
    "    # Convert 'Reviews' column to numeric to ensure proper comparison and any non-numeric values are replaced with NaN\n",
    "    df['Reviews'] = pd.to_numeric(df['Reviews'], errors='coerce')\n",
    "\n",
    "    # Group by 'App' and find the index with the maximum 'Reviews' for each group\n",
    "    idx_max_reviews = df.groupby('App')['Reviews'].idxmax()\n",
    "\n",
    "    # Create a dictionary using the grouped data\n",
    "    max_reviews_dict = dict(zip(df.loc[idx_max_reviews, 'App'], df.loc[idx_max_reviews, 'Reviews']))\n",
    "\n",
    "\n",
    "    return max_reviews_dict\n",
    "\n",
    "# Specify the path to the Google Play dataset\n",
    "google_dataset_path = \"googleplaystore.csv\"\n",
    "\n",
    "# Call the function to create the dictionary\n",
    "app_reviews_dict = max_reviews_by_app(google_dataset_path)\n",
    "\n",
    "# Display the dictionary\n",
    "items_list = list(app_reviews_dict.items())\n",
    "print(items_list[:5])"
   ]
  },
  {
   "cell_type": "markdown",
   "metadata": {},
   "source": [
    "5. b. Use the information stored in the dictionary and create a new dataset, which will have only one entry per app (and for each app, we'll only select the entry with the highest number of reviews).\n"
   ]
  },
  {
   "cell_type": "code",
   "execution_count": 159,
   "metadata": {},
   "outputs": [
    {
     "name": "stdout",
     "output_type": "stream",
     "text": [
      "                                       App       Category  Rating  Reviews  \\\n",
      "8884  \"i DT\" Fútbol. Todos Somos Técnicos.         SPORTS     NaN       27   \n",
      "8532         +Download 4 Instagram Twitter         SOCIAL     4.5    40467   \n",
      "324             - Free Comics - Comic Apps         COMICS     3.5      115   \n",
      "4541                                    .R          TOOLS     4.5      259   \n",
      "4636                                /u/app  COMMUNICATION     4.7      573   \n",
      "\n",
      "      Size    Installs  Type Price Content Rating         Genres  \\\n",
      "8884  3.6M        500+  Free     0       Everyone         Sports   \n",
      "8532   22M  1,000,000+  Free     0       Everyone         Social   \n",
      "324   9.1M     10,000+  Free     0     Mature 17+         Comics   \n",
      "4541  203k     10,000+  Free     0       Everyone          Tools   \n",
      "4636   53M     10,000+  Free     0     Mature 17+  Communication   \n",
      "\n",
      "            Last Updated Current Ver Android Ver  \n",
      "8884     October 7, 2017        0.22  4.1 and up  \n",
      "8532      August 2, 2018        5.03  4.1 and up  \n",
      "324        July 13, 2018      5.0.12  5.0 and up  \n",
      "4541  September 16, 2014      1.1.06  1.5 and up  \n",
      "4636        July 3, 2018       4.2.4  4.1 and up  \n"
     ]
    }
   ],
   "source": [
    "# Solution\n",
    "\n",
    "# Function to create a new dataset with one entry per app (highest number of reviews)\n",
    "def create_new_dataset(dataset_path, app_reviews_dict):\n",
    "    # Load the original dataset\n",
    "    df = pd.read_csv(dataset_path)\n",
    "    df.drop(10472, inplace=True)\n",
    "\n",
    "    # Convert 'Reviews' column to numeric to ensure proper comparison\n",
    "    df['Reviews'] = pd.to_numeric(df['Reviews'], errors='coerce')\n",
    "\n",
    "    # Use the app_reviews_dict to filter the DataFrame to include only rows with the highest number of reviews for each app\n",
    "    new_df = df.loc[df.groupby('App')['Reviews'].idxmax()]\n",
    "\n",
    "    return new_df\n",
    "\n",
    "# Specify the path to the Google Play dataset\n",
    "google_dataset_path = \"googleplaystore.csv\"\n",
    "\n",
    "# Call the function to create the new dataset\n",
    "new_dataset = create_new_dataset(google_dataset_path, app_reviews_dict)\n",
    "\n",
    "# Display the new dataset\n",
    "print(new_dataset.head())\n",
    "\n",
    "\n"
   ]
  },
  {
   "cell_type": "markdown",
   "metadata": {},
   "source": [
    "5. c. Explore the cleaned dataset, it should have 9,659 rows\n"
   ]
  },
  {
   "cell_type": "code",
   "execution_count": 139,
   "metadata": {},
   "outputs": [
    {
     "name": "stdout",
     "output_type": "stream",
     "text": [
      "Number of rows and columns in the cleaned dataset:\n",
      "(9659, 13)\n",
      "\n",
      "First few rows of the cleaned dataset:\n",
      "                                       App       Category  Rating  Reviews  \\\n",
      "8884  \"i DT\" Fútbol. Todos Somos Técnicos.         SPORTS     NaN       27   \n",
      "8532         +Download 4 Instagram Twitter         SOCIAL     4.5    40467   \n",
      "324             - Free Comics - Comic Apps         COMICS     3.5      115   \n",
      "4541                                    .R          TOOLS     4.5      259   \n",
      "4636                                /u/app  COMMUNICATION     4.7      573   \n",
      "\n",
      "      Size    Installs  Type Price Content Rating         Genres  \\\n",
      "8884  3.6M        500+  Free     0       Everyone         Sports   \n",
      "8532   22M  1,000,000+  Free     0       Everyone         Social   \n",
      "324   9.1M     10,000+  Free     0     Mature 17+         Comics   \n",
      "4541  203k     10,000+  Free     0       Everyone          Tools   \n",
      "4636   53M     10,000+  Free     0     Mature 17+  Communication   \n",
      "\n",
      "            Last Updated Current Ver Android Ver  \n",
      "8884     October 7, 2017        0.22  4.1 and up  \n",
      "8532      August 2, 2018        5.03  4.1 and up  \n",
      "324        July 13, 2018      5.0.12  5.0 and up  \n",
      "4541  September 16, 2014      1.1.06  1.5 and up  \n",
      "4636        July 3, 2018       4.2.4  4.1 and up  \n"
     ]
    }
   ],
   "source": [
    "# Solution\n",
    "\n",
    "# Display basic information about the dataset\n",
    "print(\"Number of rows and columns in the cleaned dataset:\")\n",
    "print(new_dataset.shape)\n",
    "\n",
    "# Display the first few rows of the cleaned dataset\n",
    "print(\"\\nFirst few rows of the cleaned dataset:\")\n",
    "print(new_dataset.head())"
   ]
  },
  {
   "cell_type": "markdown",
   "metadata": {},
   "source": [
    "6. Remove non-english apps from both Android and Apple datasets. You should write a function that takes a string, if there's more than three characters that fall outside the ASCII range (0 - 127), then the function should return False (identify the string as non-English), otherwise it should return True. Hint: use the [```ord()```  function](https://www.w3schools.com/python/ref_func_ord.asp)"
   ]
  },
  {
   "cell_type": "code",
   "execution_count": 140,
   "metadata": {},
   "outputs": [],
   "source": [
    "# For instance\n",
    "correct_english_name = \"Instachat 😜\"  # 1 character outside the ASCII range (😜)\n",
    "incorrect_english_name = \"爱奇艺PPS -《欢乐颂2》电视剧热播\" # 13 character outside the ASCII range (ie 播)"
   ]
  },
  {
   "cell_type": "code",
   "execution_count": 141,
   "metadata": {},
   "outputs": [
    {
     "name": "stdout",
     "output_type": "stream",
     "text": [
      "73\n",
      "116\n",
      "45\n",
      "128540\n",
      "29233\n"
     ]
    }
   ],
   "source": [
    "print(ord(\"I\"))\n",
    "print(ord(\"t\"))\n",
    "print(ord(\"-\"))\n",
    "print(ord(\"😜\"))\n",
    "print(ord(\"爱\"))"
   ]
  },
  {
   "cell_type": "code",
   "execution_count": 142,
   "metadata": {},
   "outputs": [
    {
     "name": "stdout",
     "output_type": "stream",
     "text": [
      "Number of rows in filtered Android dataset: 10796\n",
      "Number of rows in filtered Apple dataset: 6183\n"
     ]
    }
   ],
   "source": [
    "# Solution\n",
    "def is_english(string):\n",
    "    non_ascii_count = 0\n",
    "\n",
    "    for char in string:\n",
    "        if ord(char) > 127:\n",
    "            non_ascii_count += 1\n",
    "\n",
    "        if non_ascii_count > 3:\n",
    "            return False\n",
    "\n",
    "    return True\n",
    "\n",
    "def filter_english_apps(dataset, name_column):\n",
    "    return dataset[dataset[name_column].apply(is_english)]\n",
    "\n",
    "filtered_android = filter_english_apps(google, 'App')\n",
    "#print(apple[\"track_name\"])\n",
    "filtered_apple = filter_english_apps(apple, 'track_name')\n",
    "# Display the number of rows in the filtered datasets\n",
    "print(\"Number of rows in filtered Android dataset:\", len(filtered_android))\n",
    "print(\"Number of rows in filtered Apple dataset:\", len(filtered_apple))\n"
   ]
  },
  {
   "cell_type": "markdown",
   "metadata": {},
   "source": [
    "7. Loop through each dataset to isolate the free apps in separate lists. Make sure you identify the columns describing the app price correctly. Be careful, prices come up as strings ('0', $0.99, $2.99, etc.), so make sure you're not checking an integer or a float in your conditional statements. How many apps are free?\n"
   ]
  },
  {
   "cell_type": "code",
   "execution_count": 143,
   "metadata": {},
   "outputs": [
    {
     "name": "stdout",
     "output_type": "stream",
     "text": [
      "Number of free apps in Android dataset: 10040\n",
      "Number of free apps in Apple dataset: 0\n"
     ]
    }
   ],
   "source": [
    "# Solution\n",
    "# Assuming 'android_dataset' is the Android dataset and 'apple_dataset' is the Apple dataset\n",
    "\n",
    "# For Android dataset\n",
    "android_free_apps = []\n",
    "for index, row in google.iterrows():\n",
    "    price = row['Price']\n",
    "    if price == '0' or price == '0.0':\n",
    "        android_free_apps.append(row['App'])\n",
    "\n",
    "# For Apple dataset\n",
    "apple_free_apps = []\n",
    "for index, row in apple.iterrows():\n",
    "    price = row['price']\n",
    "    if price == '0' or price == '0.0':\n",
    "        apple_free_apps.append(row['track_name'])\n",
    "\n",
    "# Count the number of free apps\n",
    "num_free_android_apps = len(android_free_apps)\n",
    "num_free_apple_apps = len(apple_free_apps)\n",
    "\n",
    "# Display the results\n",
    "print(\"Number of free apps in Android dataset:\", num_free_android_apps)\n",
    "print(\"Number of free apps in Apple dataset:\", num_free_apple_apps)\n"
   ]
  },
  {
   "cell_type": "markdown",
   "metadata": {},
   "source": [
    "## Exploring data"
   ]
  },
  {
   "cell_type": "markdown",
   "metadata": {},
   "source": [
    " 8. Build a frequency table for the ```prime_genre``` column of the App Store dataset, and the ```Genres``` and ```Category``` columns of the Google Play data set. What are the most common genres for each market? You must develop and deploy your function"
   ]
  },
  {
   "cell_type": "code",
   "execution_count": 144,
   "metadata": {},
   "outputs": [
    {
     "name": "stdout",
     "output_type": "stream",
     "text": [
      "App Store - Frequency Table for prime_genre:\n",
      "prime_genre\n",
      "Games                53.661248\n",
      "Entertainment         7.433653\n",
      "Education             6.294289\n",
      "Photo & Video         4.849243\n",
      "Utilities             3.445880\n",
      "Health & Fitness      2.501042\n",
      "Productivity          2.473253\n",
      "Social Networking     2.320411\n",
      "Lifestyle             2.000834\n",
      "Music                 1.917466\n",
      "Shopping              1.695151\n",
      "Sports                1.583993\n",
      "Book                  1.556204\n",
      "Finance               1.445047\n",
      "Travel                1.125469\n",
      "News                  1.042101\n",
      "Weather               1.000417\n",
      "Reference             0.889259\n",
      "Food & Drink          0.875365\n",
      "Business              0.791997\n",
      "Navigation            0.639155\n",
      "Medical               0.319578\n",
      "Catalogs              0.138947\n",
      "Name: proportion, dtype: float64\n"
     ]
    }
   ],
   "source": [
    "# Solution\n",
    "\n",
    "def frequency_table(dataset, column_name):\n",
    "    # Create a frequency table for the specified column\n",
    "    freq_table = dataset[column_name].value_counts(normalize=True) * 100 \n",
    "    #dataset[column_name]: Extracts the specified column \n",
    "    # normalize=True: Normalizes the counts to represent percentages instead of raw counts.\n",
    "    \n",
    "    return freq_table\n",
    "\n",
    "# for the App Store dataset\n",
    "# Assuming 'apple_dataset' is the App Store dataset\n",
    "app_store_genre_freq = frequency_table(apple, 'prime_genre')\n",
    "print(\"App Store - Frequency Table for prime_genre:\")\n",
    "print(app_store_genre_freq)\n",
    "\n"
   ]
  },
  {
   "cell_type": "code",
   "execution_count": 145,
   "metadata": {},
   "outputs": [
    {
     "name": "stdout",
     "output_type": "stream",
     "text": [
      "\n",
      "Google Play - Frequency Table for Genres:\n",
      "Genres\n",
      "Tools                     7.766811\n",
      "Entertainment             5.746702\n",
      "Education                 5.064108\n",
      "Medical                   4.270824\n",
      "Business                  4.243151\n",
      "                            ...   \n",
      "Arcade;Pretend Play       0.009224\n",
      "Card;Brain Games          0.009224\n",
      "Lifestyle;Pretend Play    0.009224\n",
      "Comics;Creativity         0.009224\n",
      "Strategy;Creativity       0.009224\n",
      "Name: proportion, Length: 120, dtype: float64\n",
      "\n",
      "Google Play - Frequency Table for Category:\n",
      "Category\n",
      "FAMILY                 18.190204\n",
      "GAME                   10.552532\n",
      "TOOLS                   7.776035\n",
      "MEDICAL                 4.270824\n",
      "BUSINESS                4.243151\n",
      "PRODUCTIVITY            3.911078\n",
      "PERSONALIZATION         3.615903\n",
      "COMMUNICATION           3.569781\n",
      "SPORTS                  3.542109\n",
      "LIFESTYLE               3.523660\n",
      "FINANCE                 3.376072\n",
      "HEALTH_AND_FITNESS      3.145466\n",
      "PHOTOGRAPHY             3.090121\n",
      "SOCIAL                  2.721151\n",
      "NEWS_AND_MAGAZINES      2.610460\n",
      "SHOPPING                2.398303\n",
      "TRAVEL_AND_LOCAL        2.379854\n",
      "DATING                  2.158472\n",
      "BOOKS_AND_REFERENCE     2.130800\n",
      "VIDEO_PLAYERS           1.614242\n",
      "EDUCATION               1.438982\n",
      "ENTERTAINMENT           1.374412\n",
      "MAPS_AND_NAVIGATION     1.263721\n",
      "FOOD_AND_DRINK          1.171479\n",
      "HOUSE_AND_HOME          0.811733\n",
      "LIBRARIES_AND_DEMO      0.784061\n",
      "AUTO_AND_VEHICLES       0.784061\n",
      "WEATHER                 0.756388\n",
      "ART_AND_DESIGN          0.599576\n",
      "EVENTS                  0.590351\n",
      "PARENTING               0.553454\n",
      "COMICS                  0.553454\n",
      "BEAUTY                  0.488885\n",
      "1.9                     0.009224\n",
      "Name: proportion, dtype: float64\n"
     ]
    }
   ],
   "source": [
    "# for the Google Play dataset\n",
    "# Assuming 'android_dataset' is the Google Play dataset\n",
    "google_play_genre_freq = frequency_table(google, 'Genres')\n",
    "google_play_category_freq = frequency_table(google, 'Category')\n",
    "\n",
    "print(\"\\nGoogle Play - Frequency Table for Genres:\")\n",
    "print(google_play_genre_freq)\n",
    "print(\"\\nGoogle Play - Frequency Table for Category:\")\n",
    "print(google_play_category_freq)"
   ]
  },
  {
   "cell_type": "markdown",
   "metadata": {},
   "source": [
    " 9. One way to find out what genres are the most popular (have the most users) is to calculate the average number of installs for each app genre. Based on that exercise, give one app profile recommendation for Google Play.\n",
    " \n",
    "    For the Google Play data set, we can find the required information in the ```Installs``` column. Then, compute the average number of installs by genre. Hint 1: consider only unique values of the ```Category``` column. Hint 2: If an app has, for instance, ```1,000,000+``` assume it as ```1,000,000``` installs. Hint 3: Be careful with a skewed distribution"
   ]
  },
  {
   "cell_type": "code",
   "execution_count": 125,
   "metadata": {},
   "outputs": [
    {
     "name": "stdout",
     "output_type": "stream",
     "text": [
      "Unique values in the 'Installs' column:\n",
      "[1.e+04 5.e+05 5.e+06 5.e+07 1.e+05 5.e+04 1.e+06 1.e+07 5.e+03 1.e+08\n",
      " 1.e+09 1.e+03 5.e+08 5.e+01 1.e+02 5.e+02 1.e+01 1.e+00 5.e+00 0.e+00\n",
      "    nan]\n",
      "\n",
      "Average Number of Installs by Category:\n",
      "Category\n",
      "1.9                             NaN\n",
      "ART_AND_DESIGN         1.912894e+06\n",
      "AUTO_AND_VEHICLES      6.250613e+05\n",
      "BEAUTY                 5.131519e+05\n",
      "BOOKS_AND_REFERENCE    8.318050e+06\n",
      "BUSINESS               2.178076e+06\n",
      "COMICS                 9.347692e+05\n",
      "COMMUNICATION          8.435989e+07\n",
      "DATING                 1.129533e+06\n",
      "EDUCATION              5.586231e+06\n",
      "ENTERTAINMENT          1.925611e+07\n",
      "EVENTS                 2.495806e+05\n",
      "FAMILY                 5.201959e+06\n",
      "FINANCE                2.395215e+06\n",
      "FOOD_AND_DRINK         2.156683e+06\n",
      "GAME                   3.066960e+07\n",
      "HEALTH_AND_FITNESS     4.642441e+06\n",
      "HOUSE_AND_HOME         1.917187e+06\n",
      "LIBRARIES_AND_DEMO     7.411284e+05\n",
      "LIFESTYLE              1.407444e+06\n",
      "MAPS_AND_NAVIGATION    5.286729e+06\n",
      "MEDICAL                1.150269e+05\n",
      "NEWS_AND_MAGAZINES     2.648876e+07\n",
      "PARENTING              5.253518e+05\n",
      "PERSONALIZATION        5.932385e+06\n",
      "PHOTOGRAPHY            3.011417e+07\n",
      "PRODUCTIVITY           3.343418e+07\n",
      "SHOPPING               1.249173e+07\n",
      "SOCIAL                 4.769447e+07\n",
      "SPORTS                 4.560350e+06\n",
      "TOOLS                  1.358573e+07\n",
      "TRAVEL_AND_LOCAL       2.662359e+07\n",
      "VIDEO_PLAYERS          3.555430e+07\n",
      "WEATHER                5.196348e+06\n",
      "Name: Installs, dtype: float64\n"
     ]
    }
   ],
   "source": [
    "# Solution\n",
    "\n",
    "\n",
    "# Assuming 'google' is the Google Play dataset\n",
    "# Replace 'Installs' with the actual column name containing install information\n",
    "\n",
    "# Display unique values in the 'Installs' column\n",
    "print(\"Unique values in the 'Installs' column:\")\n",
    "print(google['Installs'].unique())\n",
    "\n",
    "# Clean the 'Installs' column\n",
    "google['Installs'] = google['Installs'].astype(str).str.replace(',', '').str.replace('+', '')\n",
    "\n",
    "# Convert to numeric, excluding 'Free' values\n",
    "google['Installs'] = pd.to_numeric(google['Installs'], errors='coerce')\n",
    "\n",
    "# Grouping by 'Category' and calculating the average number of installs\n",
    "average_installs_by_category = google.groupby('Category')['Installs'].mean()\n",
    "\n",
    "# Display the average number of installs for each category\n",
    "print(\"\\nAverage Number of Installs by Category:\")\n",
    "print(average_installs_by_category)\n",
    "\n"
   ]
  },
  {
   "cell_type": "code",
   "execution_count": 146,
   "metadata": {},
   "outputs": [
    {
     "name": "stdout",
     "output_type": "stream",
     "text": [
      "\n",
      "App Profile Recommendation for Google Play:\n",
      "For the highest average installs, consider apps in the 'COMMUNICATION' category with an average of 84359886.95348836 installs.\n"
     ]
    }
   ],
   "source": [
    "# Find the category with the highest average installs\n",
    "max_installs_category = average_installs_by_category.idxmax()\n",
    "#devuelve el índice (en este caso, la categoría) que tiene el valor máximo en la Serie \n",
    "max_installs_value = average_installs_by_category.max()\n",
    "#devuelve el valor máximo en la Serie average_installs_by_category\n",
    "\n",
    "print(\"\\nApp Profile Recommendation for Google Play:\")\n",
    "print(f\"For the highest average installs, consider apps in the '{max_installs_category}' category with an average of {max_installs_value} installs.\")\n"
   ]
  },
  {
   "cell_type": "markdown",
   "metadata": {},
   "source": [
    " 10. The App Store dataset doesn´t have the ```installs``` information. Then, you will construct the average rating from the ```rating_count_tot``` column per genre. Based on that exercise, give one app profile recommendation for the App Store"
   ]
  },
  {
   "cell_type": "code",
   "execution_count": 147,
   "metadata": {},
   "outputs": [
    {
     "name": "stdout",
     "output_type": "stream",
     "text": [
      "Unique values in the 'rating_count_tot' column:\n",
      "[2974676 2161558 2130805 ...       2       1       0]\n"
     ]
    }
   ],
   "source": [
    "# Solution\n",
    "\n",
    "# Assuming 'apple' is the App Store dataset\n",
    "# Replace 'rating_count_tot' with the actual column name containing rating information\n",
    "\n",
    "# Display unique values in the 'rating_count_tot' column\n",
    "print(\"Unique values in the 'rating_count_tot' column:\")\n",
    "print(apple['rating_count_tot'].unique())"
   ]
  },
  {
   "cell_type": "code",
   "execution_count": 148,
   "metadata": {},
   "outputs": [
    {
     "name": "stdout",
     "output_type": "stream",
     "text": [
      "\n",
      "Average Rating by Genre in the App Store:\n",
      "prime_genre\n",
      "Book                  5125.437500\n",
      "Business              4788.087719\n",
      "Catalogs              1732.500000\n",
      "Education             2239.229581\n",
      "Entertainment         7533.678505\n",
      "Finance              11047.653846\n",
      "Food & Drink         13938.619048\n",
      "Games                13691.996634\n",
      "Health & Fitness      9913.172222\n",
      "Lifestyle             6161.763889\n",
      "Medical                592.782609\n",
      "Music                28842.021739\n",
      "Navigation           11853.956522\n",
      "News                 13015.066667\n",
      "Photo & Video        14352.280802\n",
      "Productivity          8051.325843\n",
      "Reference            22410.843750\n",
      "Shopping             18615.327869\n",
      "Social Networking    45498.898204\n",
      "Sports               14026.929825\n",
      "Travel               14129.444444\n",
      "Utilities             6863.822581\n",
      "Weather              22181.027778\n",
      "Name: rating_count_tot, dtype: float64\n",
      "\n",
      "App Profile Recommendation for the App Store:\n",
      "For the highest average rating, consider apps in the 'Social Networking' genre with an average rating of 45498.89820359281.\n"
     ]
    }
   ],
   "source": [
    "# Grouping by 'prime_genre' and calculating the average rating\n",
    "average_rating_by_genre = apple.groupby('prime_genre')['rating_count_tot'].mean()\n",
    "\n",
    "# Display the average rating for each genre\n",
    "print(\"\\nAverage Rating by Genre in the App Store:\")\n",
    "print(average_rating_by_genre)\n",
    "\n",
    "# Find the genre with the highest average rating\n",
    "max_rating_genre = average_rating_by_genre.idxmax()\n",
    "max_rating_value = average_rating_by_genre.max()\n",
    "\n",
    "print(\"\\nApp Profile Recommendation for the App Store:\")\n",
    "print(f\"For the highest average rating, consider apps in the '{max_rating_genre}' genre with an average rating of {max_rating_value}.\")\n"
   ]
  }
 ],
 "metadata": {
  "hide_input": false,
  "kernelspec": {
   "display_name": "Python 3 (ipykernel)",
   "language": "python",
   "name": "python3"
  },
  "language_info": {
   "codemirror_mode": {
    "name": "ipython",
    "version": 3
   },
   "file_extension": ".py",
   "mimetype": "text/x-python",
   "name": "python",
   "nbconvert_exporter": "python",
   "pygments_lexer": "ipython3",
   "version": "3.10.11"
  },
  "toc": {
   "base_numbering": 1,
   "nav_menu": {},
   "number_sections": true,
   "sideBar": true,
   "skip_h1_title": false,
   "title_cell": "Table of Contents",
   "title_sidebar": "Contents",
   "toc_cell": false,
   "toc_position": {},
   "toc_section_display": true,
   "toc_window_display": false
  }
 },
 "nbformat": 4,
 "nbformat_minor": 4
}
